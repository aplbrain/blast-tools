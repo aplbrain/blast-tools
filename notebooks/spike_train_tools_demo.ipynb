{
 "cells": [
  {
   "cell_type": "markdown",
   "metadata": {},
   "source": [
    "# Spike Train Analysis Tools\n",
    "\n",
    "This notebook includes a demonstration for spike train analysis tools in Python.\n",
    "\n",
    "This tool works by accepting data generated from matlab processing that makes it parsable in Python. The logic for parsing is found in calculate_afferet_isi_stats() in spiketrainanalysis.py, and the functiona trial_isi_probability_distribution() trial_distance_probability_distribution() accept most matlab-output files to produce visualizations for analytics on spiking neurons.\n",
    "\n",
    "This tool seeks to accomplish producing comparisons between the following: \n",
    "\n",
    "    1) Different neurons or different neuron types in a given file  \n",
    "    2) Responses to different objects or dimension for a given neuron  \n",
    "    3) Responses to the same object/dimension but different trials for a given neuron  \n",
    "    4) Same neuron and experimental conditions but different SNRs  \n",
    "    5) Different locations for a given neuron type in a given file  \n",
    "\n",
    "The file trialstats.py abstracts functionality from trial_isi_probability_distribution() into 6 functions that perform the above analyses:\n",
    "\n",
    "    1) compare_neuron()   # Compares 2 different neurons across trials \n",
    "    2) compare_afferent() # Compares 2 different afferent types (sa, ra, pc) across trials  \n",
    "    3) compare_response() # Compares 2 different experimental responses (e.g. object 1 vs object 3)  \n",
    "    4) compare_trial()    # Compares 2 different trials of the same experiement (e.g. trial 2 vs trial 4)  \n",
    "    5) compare_noise()    # Compares 2 different noise profiles (e.g. 0 dB noise vs 9 dB noise) \n",
    "    6) compare_location() # Compares 2 different stimulus points based on x-y coordinates\n",
    "\n",
    "Each function returns the KL divergence (pq + qp)\n",
    "\n",
    "Notes \\\n",
    "-Occasionally when selecting a specific neuron, a TrueDivide warning may be thrown. This will happen when a neuron did not fire during the experiment. This results in little/no spike intervals, which will fail the ISI calculation.\n",
    "-Also when selecting a neuron, that neuron's distance from the origin may be greater than the higher end of the bin range. This causes an error because all bins in the plot are 0%, since the [only] data point is beyond the range of the bins. When this is detected, the n_bins variable will switch to the default value of 10 uniformly-sized bins."
   ]
  },
  {
   "cell_type": "code",
   "execution_count": 1,
   "metadata": {},
   "outputs": [
    {
     "data": {
      "text/html": [
       "<style>.container { width:90% !important; }</style>"
      ],
      "text/plain": [
       "<IPython.core.display.HTML object>"
      ]
     },
     "metadata": {},
     "output_type": "display_data"
    }
   ],
   "source": [
    "#  Import the toolset\n",
    "import sys; sys.path.insert(0, '..') # This line allows imports from the parent directory /blast/\n",
    "import spiketrainanalysis as sta\n",
    "import trialstats as ts\n",
    "import numpy as np\n",
    "import scipy.stats as ss\n",
    "import matplotlib.pyplot as plt\n",
    "\n",
    "#  Suppress print statements (restart Notebook and kernel to undo):\n",
    "# import sys, os\n",
    "# sys.stdout = open(os.devnull, 'w')\n",
    "\n",
    "# Widen Jupyter cells\n",
    "from IPython.core.display import display, HTML\n",
    "display(HTML(\"<style>.container { width:90% !important; }</style>\"))"
   ]
  },
  {
   "cell_type": "code",
   "execution_count": 2,
   "metadata": {},
   "outputs": [
    {
     "data": {
      "text/plain": [
       "['spikes_ftsn_object_1_dim_2_trial_1.mat',\n",
       " 'spikes_ftsn_object_1_dim_2_trial_2.mat',\n",
       " 'spikes_ftsn_object_1_dim_2_trial_3.mat',\n",
       " 'spikes_ftsn_object_1_dim_2_trial_4.mat',\n",
       " 'spikes_ftsn_object_1_dim_2_trial_5.mat']"
      ]
     },
     "execution_count": 2,
     "metadata": {},
     "output_type": "execute_result"
    }
   ],
   "source": [
    "#  Set the directory where .mat files are found. Nesting of directories is allowed (e.g. for noise profile sweep)\n",
    "data_dir='../data/'\n",
    "\n",
    "#  The user can specify filenames if (s)he desires a specific combination of files \n",
    "files = ['spikes_ftsn_object_1_dim_2_trial_1.mat',\n",
    "         'spikes_ftsn_object_1_dim_2_trial_2.mat',\n",
    "         'spikes_ftsn_object_1_dim_2_trial_3.mat']\n",
    "\n",
    "#  Note: filenames may have several instances (e.g. nested within different noise profile directories)\n",
    "noise_dir = data_dir + 'foam_block_grasping_spikes_noise_15db - TouchSim2Struct'\n",
    "\n",
    "#  Optionally pass an empty list to parse all files that can be found.\n",
    "all_files = [] \n",
    "\n",
    "#  The user can also intelligently parse nested directories from data_dir to automatically populate a list that\n",
    "# meets a criteria using trialstats.trial_select(). Returns list of files and directory of noise folder\n",
    "smart_files, noise_directory = ts.trial_select(data_dir, noise=0, sensor='ftsn', obj='1', dim='2')\n",
    "smart_files"
   ]
  },
  {
   "cell_type": "markdown",
   "metadata": {},
   "source": [
    "### Comparison between different neurons in a given file \n",
    " The below cell compares ISI probability distributions between neuron 1545 and neuron 1493 across trials 1-3 for object 1, dimension 2, recorded by ftsn sensors. +15db of noise was injected for these trials."
   ]
  },
  {
   "cell_type": "code",
   "execution_count": null,
   "metadata": {
    "scrolled": false
   },
   "outputs": [],
   "source": [
    " kl_divergence = ts.compare_neuron(trials=files, \n",
    "                                  data_dir=noise_dir, \n",
    "                                  neuron1=1545, \n",
    "                                  neuron2=1493, \n",
    "                                  n_bins=30, \n",
    "                                  y_axis_limit=0.7)\n",
    "kl_divergence"
   ]
  },
  {
   "cell_type": "markdown",
   "metadata": {},
   "source": [
    "### Comparison responses between afferent type\n",
    "The below cell compares ISI probability distributions between slowly adapating and rapidly adapating neurons across trials 1-5 for object 2, dimension 2, recorded by ftsn sensors with -12db of noise injected."
   ]
  },
  {
   "cell_type": "code",
   "execution_count": null,
   "metadata": {
    "scrolled": false
   },
   "outputs": [],
   "source": [
    "files = ['spikes_ftsn_object_2_dim_2_trial_1.mat',\n",
    "         'spikes_ftsn_object_2_dim_2_trial_2.mat',\n",
    "         'spikes_ftsn_object_2_dim_2_trial_3.mat',\n",
    "         'spikes_ftsn_object_2_dim_2_trial_4.mat'\n",
    "         'spikes_ftsn_object_2_dim_2_trial_5.mat']\n",
    "\n",
    "noise_dir = data_dir + 'foam_block_grasping_spikes_noise_minus6db - TouchSim2Struct'\n",
    "\n",
    "#  n_bins can optionally be passed as a list of bins.\n",
    "#  See https://numpy.org/doc/stable/reference/generated/numpy.histogram.html for usage\n",
    "bin_min = 0\n",
    "bin_max = 0.1\n",
    "bins = 25\n",
    "bin_step = bin_max / bins\n",
    "n_bins = np.arange(bin_min, bin_max, bin_step)\n",
    "\n",
    "kl_divergence = ts.compare_afferent(data_dir=noise_dir, \n",
    "                                    trials=files, \n",
    "                                    afferent1='sa', \n",
    "                                    afferent2='ra', \n",
    "                                    n_bins=n_bins, \n",
    "                                    trq_sensor_no=0, \n",
    "                                    y_axis_limit=.65,)\n",
    "kl_divergence"
   ]
  },
  {
   "cell_type": "markdown",
   "metadata": {},
   "source": [
    "### Comparison between different responses\n",
    "The below cells compare ISI probability distributions between near-identical experimental setups. The two datasets used below use the same sensor and have the same noise injected and the same axis/dimension for gripping the object. They only differ by the object grasped."
   ]
  },
  {
   "cell_type": "code",
   "execution_count": null,
   "metadata": {},
   "outputs": [],
   "source": [
    "#  Populate a list of experiments for both object 1 and object 3\n",
    "files_obj1, noise_folder = ts.trial_select(data_dir=data_dir, noise=0, sensor='trq', obj=1, dim=2)\n",
    "files_obj2, noise_folder = ts.trial_select(data_dir=data_dir, noise=0, sensor='trq', obj=3, dim=2)\n",
    "\n",
    "# files_obj1\n",
    "files_obj2"
   ]
  },
  {
   "cell_type": "code",
   "execution_count": null,
   "metadata": {},
   "outputs": [],
   "source": [
    "bin_min = 0\n",
    "bin_max = 0.1\n",
    "bins = 25\n",
    "bin_step = bin_max / bins\n",
    "n_bins = np.arange(bin_min, bin_max, bin_step)\n",
    "\n",
    "#  Notice: files were populated from 'trq' sensors this time. We can specify which trq sensor (0-2) in function call.\n",
    "#  Notice: passing None for neuron or afferent_type will aggregate date from ALL neurons or ALL afferent types.\n",
    "#  Notice: y-axis limit can be adjusted for plot visibility.\n",
    "kl_divergence = ts.compare_response(data_dir=noise_folder,\n",
    "                                    response_set1=files_obj1,\n",
    "                                    response_set2=files_obj2,\n",
    "                                    n_bins=n_bins, \n",
    "                                    neuron=None,\n",
    "                                    afferent_type=None, \n",
    "                                    trq_sensor_no=2, \n",
    "                                    y_axis_limit=0.25)\n",
    "kl_divergence"
   ]
  },
  {
   "cell_type": "markdown",
   "metadata": {},
   "source": [
    "### Comparison between different trials of the same experiment\n",
    "The below cell compares ISI probability distributions between fully-identical experimental setups. The datasets used below have the same noise profile, same sensor used, same object, same dimension. They differ only by trial. PC neurons are compared here."
   ]
  },
  {
   "cell_type": "code",
   "execution_count": null,
   "metadata": {},
   "outputs": [],
   "source": [
    "#  Populate a list of identical experiements conducted across different trials\n",
    "files_trial1, noise_folder = ts.trial_select(data_dir=data_dir, noise=0, sensor='ftsn', obj=1, dim=2, trial=2)\n",
    "files_trial2, noise_folder = ts.trial_select(data_dir=data_dir, noise=0, sensor='ftsn', obj=1, dim=2, trial=4)\n",
    "\n",
    "\n",
    "bin_min = 0\n",
    "bin_max = 0.1 #  ideally the longest isi time\n",
    "bins = 25\n",
    "bin_step = bin_max / bins\n",
    "n_bins = np.arange(bin_min, bin_max, bin_step)\n",
    "\n",
    "kl_divergence = ts.compare_trial(data_dir=noise_folder, \n",
    "              trial_set1=files_trial1, \n",
    "              trial_set2=files_trial2, \n",
    "              n_bins=n_bins, \n",
    "              neuron=None, \n",
    "              afferent_type='pc', \n",
    "              trq_sensor_no=0, \n",
    "              y_axis_limit=.15)\n",
    "\n",
    "kl_divergence"
   ]
  },
  {
   "cell_type": "markdown",
   "metadata": {},
   "source": [
    "### Comparison between different noise profiles of the same experiment\n",
    "The below cell compares ISI probability distributions between different noise profiles 0 and -6 for neuron_id=1400."
   ]
  },
  {
   "cell_type": "code",
   "execution_count": null,
   "metadata": {},
   "outputs": [],
   "source": [
    "#  Populate a list of identical experiements conducted across different trials\n",
    "files_trial1, noise_folder1 = ts.trial_select(data_dir=data_dir, noise=0, sensor='ftsn', obj=1, dim=2)\n",
    "files_trial2, noise_folder2 = ts.trial_select(data_dir=data_dir, noise=-6, sensor='ftsn', obj=1, dim=2)\n",
    "\n",
    "bin_min = 0\n",
    "bin_max = 0.1 #  ideally the longest isi time\n",
    "bins = 25\n",
    "bin_step = bin_max / bins\n",
    "n_bins = np.arange(bin_min, bin_max, bin_step)\n",
    "\n",
    "kl_divergence = ts.compare_noise(noise_dir1=noise_folder1, \n",
    "                                 noise_dir2=noise_folder2,\n",
    "                                 noise_set1=files_trial1, \n",
    "                                 noise_set2=files_trial2, \n",
    "                                 n_bins=n_bins, \n",
    "                                 neuron=1400, \n",
    "                                 afferent_type=None,\n",
    "                                 trq_sensor_no=0,\n",
    "                                 y_axis_limit=0.4)\n",
    "kl_divergence"
   ]
  },
  {
   "cell_type": "markdown",
   "metadata": {},
   "source": [
    "### Comparison between different neuron locations\n",
    "The below cell shows the probability a neurons will spike based on their proximity to a stimulus (denoteded with a tuple representing its coordinates.)"
   ]
  },
  {
   "cell_type": "code",
   "execution_count": null,
   "metadata": {
    "scrolled": false
   },
   "outputs": [],
   "source": [
    "#  Populate a list of identical experiements conducted across different trials\n",
    "location_set, data_dir = ts.trial_select(data_dir=data_dir, noise=0, obj=2, sensor='ftsn')\n",
    "\n",
    "bin_min = 0\n",
    "bin_max = 0.1 #  ideally the longest isi time\n",
    "bins = 25\n",
    "bin_step = bin_max / bins\n",
    "n_bins = np.arange(bin_min, bin_max, bin_step)\n",
    "\n",
    "reference_point1 = (0, 0)\n",
    "reference_point2 = (7, 4)\n",
    "\n",
    "kl_divergence = ts.compare_location(data_dir, \n",
    "                                    location_set=location_set,\n",
    "                                    ref1=reference_point1,\n",
    "                                    ref2=reference_point2,\n",
    "                                    n_bins=30, \n",
    "                                    neuron=40, \n",
    "                                    afferent_type=None,\n",
    "                                    trq_sensor_no=0, \n",
    "                                    y_axis_limit=.15)\n",
    "kl_divergence"
   ]
  },
  {
   "cell_type": "code",
   "execution_count": null,
   "metadata": {},
   "outputs": [],
   "source": []
  },
  {
   "cell_type": "code",
   "execution_count": 7,
   "metadata": {
    "scrolled": false
   },
   "outputs": [
    {
     "data": {
      "image/png": "[encoded data removed]",
      "text/plain": [
       "<Figure size 432x288 with 1 Axes>"
      ]
     },
     "metadata": {
      "needs_background": "light"
     },
     "output_type": "display_data"
    },
    {
     "name": "stdout",
     "output_type": "stream",
     "text": [
      "[0.03954802 0.09227872 0.1393597  0.13559322 0.10922787 0.03201507\n",
      " 0.03013183 0.02448211 0.02071563 0.03201507 0.02259887 0.03201507\n",
      " 0.03013183 0.02448211 0.02259887 0.02259887 0.02071563 0.03389831\n",
      " 0.01318267 0.03013183 0.02259887 0.01694915 0.01883239 0.02259887\n",
      " 0.01129944]\n"
     ]
    },
    {
     "data": {
      "image/png": "[encoded data removed]",
      "text/plain": [
       "<Figure size 432x288 with 1 Axes>"
      ]
     },
     "metadata": {
      "needs_background": "light"
     },
     "output_type": "display_data"
    },
    {
     "name": "stdout",
     "output_type": "stream",
     "text": [
      "[0.04226919 0.10344828 0.16017798 0.15572859 0.12458287 0.05339266\n",
      " 0.02002225 0.0189099  0.0189099  0.02335929 0.0189099  0.02002225\n",
      " 0.02447164 0.02224694 0.02002225 0.01446051 0.02113459 0.02335929\n",
      " 0.02002225 0.02002225 0.02224694 0.01223582 0.01001112 0.01668521\n",
      " 0.01334816]\n"
     ]
    },
    {
     "data": {
      "image/png": "[encoded data removed]",
      "text/plain": [
       "<Figure size 432x288 with 1 Axes>"
      ]
     },
     "metadata": {
      "needs_background": "light"
     },
     "output_type": "display_data"
    },
    {
     "name": "stdout",
     "output_type": "stream",
     "text": [
      "[0.05072464 0.15942029 0.21014493 0.15217391 0.11594203 0.06521739\n",
      " 0.01449275 0.02173913 0.02898551 0.01449275 0.02898551 0.02173913\n",
      " 0.00724638 0.         0.01449275 0.00724638 0.         0.\n",
      " 0.00724638 0.01449275 0.01449275 0.         0.02173913 0.00724638\n",
      " 0.02173913]\n"
     ]
    }
   ],
   "source": [
    "#  Populate a list of identical experiements conducted across different trials\n",
    "location_set, data_dir = ts.trial_select(data_dir=data_dir, noise=0, obj=2, sensor='ftsn')\n",
    "\n",
    "bin_min = 0\n",
    "bin_max = 0.1 #  ideally the longest isi time\n",
    "bins = 25\n",
    "bin_step = bin_max / bins\n",
    "n_bins = np.arange(bin_min, bin_max, bin_step)\n",
    "\n",
    "reference_point1 = (0, 0)\n",
    "reference_point2 = (7, 4)\n",
    "\n",
    "for afferent in ['sa','ra','pc']:\n",
    "    dist = sta.trial_distance_probabilty_distribution(data_dir, \n",
    "                                        trial_filenames=location_set,\n",
    "                                        reference_point=reference_point1,\n",
    "                                        n_bins=bins, \n",
    "                                        neuron_id=None, \n",
    "                                        afferent_type=afferent,\n",
    "                                        trq_sensor_no=0, \n",
    "                                        y_axis_limit=0.2)\n",
    "    print(dist)"
   ]
  }
 ],
 "metadata": {
  "kernelspec": {
   "display_name": "Python 3",
   "language": "python",
   "name": "python3"
  },
  "language_info": {
   "codemirror_mode": {
    "name": "ipython",
    "version": 3
   },
   "file_extension": ".py",
   "mimetype": "text/x-python",
   "name": "python",
   "nbconvert_exporter": "python",
   "pygments_lexer": "ipython3",
   "version": "3.7.6"
  }
 },
 "nbformat": 4,
 "nbformat_minor": 4
}
