{
 "cells": [
  {
   "cell_type": "markdown",
   "metadata": {},
   "source": [
    "# MuJoCo HAPTIX Spike Train Analysis\n",
    "\n",
    "#### This script demonstrates how to use the MuJoCo HAPTIX simulation environment to generate fingertip sensory data and convert that data to a format compatible with spike train analysis tools.\n",
    "\n",
    "### Dependencies:\n",
    "* MATLAB installed - must also be connected to VPN for the engine to start if applicable.\n",
    "    * Install the MATLAB engine API for Python. This allows user to `import matlab.engine()`\n",
    "    * https://www.mathworks.com/help/matlab/matlab_external/install-the-matlab-engine-for-python.html\n",
    "* MuJoCo HAPTIX must be installed and running `MPL_key.xml` when the `haptix_sense()` function is called\n",
    "    * MuJoCo HAPTIX Installation: https://www.roboti.us/index.html\n",
    "    * MuJoCo HAPTIX Documentaiton (if interested): http://www.mujoco.org/book/haptix.html\n",
    "    * Run MuJoCo HAPTIX from `mjhaptix150\\mjhaptix150\\program\\mjhaptix.exe`\n",
    "    * Open `MPL_key.xml` in HAPTIX from  `mjhaptix150\\mjhaptix150\\model\\MPL\\MPL_Key.xml`\n",
    "* Relevant files from bitbucket repo:\n",
    "    * `blast/mujoco_sense.py` - controls the MATLAB engine API for Python\n",
    "    * `blast/matlab/HaptixInterface.mat` - Interface between MATLAB and MuJoCo HAPTIX\n",
    "    * `blast/matlab/MuJoCoSense.mat` - Sensing & data collection in MuJoCo HAPTIX env\n",
    "    * `blast/matlab/MuJoCoToSpikes.mat` - Converting HAPTIX data to neural response\n",
    "    * `blast/matlab/MuJoCoToStruct.mat` - Preprocessing for spike train analysis \n",
    "    * `blast/TouchSimMat2Python_Loader.py` - Loads preprocessed responses to Python data types\n",
    "    * `blast/spiketrainanalysis.py` - Toolkit for spike train analysis\n",
    "    * `blast/trialstats.py` - Wrapper for simplified spike train analysis\n",
    "    \n",
    "    \n",
    "#### Other Important Notes:\n",
    "* If this script fails, you can try to open MATLAB and perform the data generation and processing. This may determine if your MATLAB engine API is correctly installed. \n",
    "* If you receive a license error, try again after a few moments. If the error persists, visit the link in the error message for debug. \n",
    "* At the time of development, 'ftsn' must be in the filename for the output spikes to be loaded by TouchSimMat2Python_Loader.py, if this function throws an error, check for that.\n",
    "* It appears the MATLAB API for Python prefers scientific notation over direct numerical entry. So it is recommended to use `1e3` instead of `1000` as function input parameters.\n",
    "\n",
    "#### Links that may help for development/debug:\n",
    "* https://www.mathworks.com/matlabcentral/answers/216384-why-do-i-receive-license-manager-error-7\n",
    "* https://www.mathworks.com/matlabcentral/answers/93627-why-do-i-receive-license-manager-error-16\n",
    "* https://www.mathworks.com/help/matlab/apiref/matlab.engine.matlabengine-class.html\n",
    "* https://www.mathworks.com/matlabcentral/answers/202901-problem-of-call-user-script-from-python\n",
    "\n",
    "    \n",
    "   "
   ]
  },
  {
   "cell_type": "markdown",
   "metadata": {},
   "source": [
    "`mujoco_sense.py` is the main python script file containing a class object with function calls to MATLAB. Import it first. Also import `spiketrainanalysis.py` and `trialstats.py` if you intend to perform data analysis."
   ]
  },
  {
   "cell_type": "code",
   "execution_count": 1,
   "metadata": {},
   "outputs": [],
   "source": [
    "import sys; sys.path.insert(0, '..') # This line allows imports from the parent directory /blast/\n",
    "import mujoco_sense as mjs\n",
    "import spiketrainanalysis as sta\n",
    "import trialstats as ts\n",
    "import numpy as np\n",
    "import scipy.stats as ss\n",
    "import matplotlib.pyplot as plt"
   ]
  },
  {
   "cell_type": "markdown",
   "metadata": {},
   "source": [
    "Now you must declare where you want files to be saved or loaded from. Directories MUST be specified for any of the following actions:\n",
    "\n",
    "* The directory with indentation depths (in mm) must be specified if calling `MuJoCoToSpikes()`. It is automatically created if `haptix_sense()` is called beforehand, however.\n",
    "* The directory with neural responses must be specified if calling `MuJoCoSpikesToStruct()`. It is automatically created if `MuJoCoToSpikes()` is called beforehand, however.\n"
   ]
  },
  {
   "cell_type": "code",
   "execution_count": 2,
   "metadata": {},
   "outputs": [],
   "source": [
    "from pathlib import Path\n",
    "home = str(Path.home())\n",
    "\n",
    "# Save path for indentation depths (in mm) from MuJoCo HAPTIX\n",
    "spikes_path = fr\"C:\\Users\\browncj1\\Box\\personal_BLAST\\throwaway4\\indentation_depths\"\n",
    "\n",
    "# Load and save path for converting indentation depths (in mm) to neural spike responses\n",
    "data_path = spikes_path\n",
    "save_path = fr'C:\\Users\\browncj1\\Box\\personal_BLAST\\throwaway4\\spikes'\n",
    "\n",
    "# Load and save path for converting neural spike responses to analysis-compatible format\n",
    "data_dir = save_path\n",
    "processed_dir = fr'C:\\Users\\browncj1\\Box\\personal_BLAST\\throwaway4\\spikes - touchsim2struct'"
   ]
  },
  {
   "cell_type": "markdown",
   "metadata": {},
   "source": [
    "Instantiate a `MujoCoSense` class object. This starts the MATLAB engine and imports paths"
   ]
  },
  {
   "cell_type": "code",
   "execution_count": 3,
   "metadata": {},
   "outputs": [
    {
     "name": "stdout",
     "output_type": "stream",
     "text": [
      "MATLAB engine starting.\n",
      "Engine started.\n",
      "Importing paths. This may take a few minutes.\n",
      "Calling setup_path.\n",
      "All paths imported.\n"
     ]
    }
   ],
   "source": [
    "mj = mjs.MujoCoSense()"
   ]
  },
  {
   "cell_type": "code",
   "execution_count": 4,
   "metadata": {
    "scrolled": false
   },
   "outputs": [
    {
     "name": "stdout",
     "output_type": "stream",
     "text": [
      "Calling MuJoCoSense for haptic sensing. Performing 10 trial(s).\n",
      "Finished haptic sensing.\n",
      "Saved to C:\\Users\\browncj1\\Box\\personal_BLAST\\throwaway4\\indentation_depths\n"
     ]
    }
   ],
   "source": [
    "# haptix_sense() will connect the MATLAB engine to an already-running \n",
    "# instance of MuJoCo (see dependencies above) and begin sensing. \n",
    "# Specify the trial_count parameter to determine the number of trials to create.\n",
    "mj.eng.mj_close(nargout=0) # Close pre-exisiting connections with MuJoCo\n",
    "mj.haptix_sense(spikes_path, step_count=1e3, target_sampling_frequency=1e2, trial_count=10) # use scientific notation"
   ]
  },
  {
   "cell_type": "code",
   "execution_count": 5,
   "metadata": {},
   "outputs": [
    {
     "name": "stdout",
     "output_type": "stream",
     "text": [
      "Converting indentation depths to neural spikes.\n",
      "Finished converting forces.\n",
      "Saved to C:\\Users\\browncj1\\Box\\personal_BLAST\\throwaway4\\spikes\n"
     ]
    }
   ],
   "source": [
    "# Once indentaiton depths are created from haptix_sense(), \n",
    "# they can be migrated to neural responses with the MuJoCoToSpikes() function.\n",
    "mj.MuJoCoToSpikes(data_path, save_path)"
   ]
  },
  {
   "cell_type": "code",
   "execution_count": 6,
   "metadata": {},
   "outputs": [
    {
     "name": "stdout",
     "output_type": "stream",
     "text": [
      "Beginning pre-processing for spike train analysis.\n",
      "Finished pre-processing.\n",
      "Saved to C:\\Users\\browncj1\\Box\\personal_BLAST\\throwaway4\\spikes - touchsim2struct\n"
     ]
    }
   ],
   "source": [
    "# Finally, use MuJoCoSpikesToStruct() to convert the neural responses to a struct format \n",
    "# that can be used with the trialstats.py and spiketrainanalysis.py data analysis scripts.\n",
    "mj.MuJoCoSpikesToStruct(data_dir, processed_dir)"
   ]
  },
  {
   "cell_type": "markdown",
   "metadata": {},
   "source": [
    "### Spike Train Analysis"
   ]
  },
  {
   "cell_type": "code",
   "execution_count": 7,
   "metadata": {},
   "outputs": [],
   "source": [
    "spikes_dir = processed_dir\n",
    "\n",
    "#  The user can specify filenames if (s)he desires a specific combination of files \n",
    "files = ['spikes_sensor_ftsn_indendation_depths_1.mat',\n",
    "        'spikes_sensor_ftsn_indendation_depths_2.mat']\n",
    "\n",
    "# dim must be None when using trial_select so that the function does not look for dim in the filename\n",
    "smart_files, _ = ts.trial_select(spikes_dir, obj='key', dim=None) "
   ]
  },
  {
   "cell_type": "markdown",
   "metadata": {},
   "source": [
    "#### Comapring Afferents"
   ]
  },
  {
   "cell_type": "code",
   "execution_count": 8,
   "metadata": {
    "scrolled": false
   },
   "outputs": [
    {
     "name": "stdout",
     "output_type": "stream",
     "text": [
      "loading  spikes_ftsn_object_key_sf_449_trial_1.mat\n",
      "np array and metadata dictionary constructed for  spikes_ftsn_object_key_sf_449_trial_1.mat , now creating dictionary with both\n",
      "loading  spikes_ftsn_object_key_sf_464_trial_2.mat\n",
      "np array and metadata dictionary constructed for  spikes_ftsn_object_key_sf_464_trial_2.mat , now creating dictionary with both\n",
      "loading  spikes_ftsn_object_key_sf_485_trial_10.mat\n",
      "np array and metadata dictionary constructed for  spikes_ftsn_object_key_sf_485_trial_10.mat , now creating dictionary with both\n",
      "loading  spikes_ftsn_object_key_sf_488_trial_3.mat\n",
      "np array and metadata dictionary constructed for  spikes_ftsn_object_key_sf_488_trial_3.mat , now creating dictionary with both\n",
      "loading  spikes_ftsn_object_key_sf_490_trial_9.mat\n",
      "np array and metadata dictionary constructed for  spikes_ftsn_object_key_sf_490_trial_9.mat , now creating dictionary with both\n",
      "loading  spikes_ftsn_object_key_sf_491_trial_8.mat\n",
      "np array and metadata dictionary constructed for  spikes_ftsn_object_key_sf_491_trial_8.mat , now creating dictionary with both\n",
      "loading  spikes_ftsn_object_key_sf_496_trial_5.mat\n",
      "np array and metadata dictionary constructed for  spikes_ftsn_object_key_sf_496_trial_5.mat , now creating dictionary with both\n",
      "loading  spikes_ftsn_object_key_sf_497_trial_4.mat\n",
      "np array and metadata dictionary constructed for  spikes_ftsn_object_key_sf_497_trial_4.mat , now creating dictionary with both\n",
      "loading  spikes_ftsn_object_key_sf_498_trial_6.mat\n",
      "np array and metadata dictionary constructed for  spikes_ftsn_object_key_sf_498_trial_6.mat , now creating dictionary with both\n",
      "loading  spikes_ftsn_object_key_sf_498_trial_7.mat\n",
      "np array and metadata dictionary constructed for  spikes_ftsn_object_key_sf_498_trial_7.mat , now creating dictionary with both\n"
     ]
    },
    {
     "data": {
      "image/png": "[encoded data removed]",
      "text/plain": [
       "<Figure size 432x288 with 1 Axes>"
      ]
     },
     "metadata": {
      "needs_background": "light"
     },
     "output_type": "display_data"
    },
    {
     "name": "stdout",
     "output_type": "stream",
     "text": [
      "loading  spikes_ftsn_object_key_sf_449_trial_1.mat\n",
      "np array and metadata dictionary constructed for  spikes_ftsn_object_key_sf_449_trial_1.mat , now creating dictionary with both\n",
      "loading  spikes_ftsn_object_key_sf_464_trial_2.mat\n",
      "np array and metadata dictionary constructed for  spikes_ftsn_object_key_sf_464_trial_2.mat , now creating dictionary with both\n",
      "loading  spikes_ftsn_object_key_sf_485_trial_10.mat\n",
      "np array and metadata dictionary constructed for  spikes_ftsn_object_key_sf_485_trial_10.mat , now creating dictionary with both\n",
      "loading  spikes_ftsn_object_key_sf_488_trial_3.mat\n",
      "np array and metadata dictionary constructed for  spikes_ftsn_object_key_sf_488_trial_3.mat , now creating dictionary with both\n",
      "loading  spikes_ftsn_object_key_sf_490_trial_9.mat\n",
      "np array and metadata dictionary constructed for  spikes_ftsn_object_key_sf_490_trial_9.mat , now creating dictionary with both\n",
      "loading  spikes_ftsn_object_key_sf_491_trial_8.mat\n",
      "np array and metadata dictionary constructed for  spikes_ftsn_object_key_sf_491_trial_8.mat , now creating dictionary with both\n",
      "loading  spikes_ftsn_object_key_sf_496_trial_5.mat\n",
      "np array and metadata dictionary constructed for  spikes_ftsn_object_key_sf_496_trial_5.mat , now creating dictionary with both\n",
      "loading  spikes_ftsn_object_key_sf_497_trial_4.mat\n",
      "np array and metadata dictionary constructed for  spikes_ftsn_object_key_sf_497_trial_4.mat , now creating dictionary with both\n",
      "loading  spikes_ftsn_object_key_sf_498_trial_6.mat\n",
      "np array and metadata dictionary constructed for  spikes_ftsn_object_key_sf_498_trial_6.mat , now creating dictionary with both\n",
      "loading  spikes_ftsn_object_key_sf_498_trial_7.mat\n",
      "np array and metadata dictionary constructed for  spikes_ftsn_object_key_sf_498_trial_7.mat , now creating dictionary with both\n"
     ]
    },
    {
     "data": {
      "image/png": "[encoded data removed]",
      "text/plain": [
       "<Figure size 432x288 with 1 Axes>"
      ]
     },
     "metadata": {
      "needs_background": "light"
     },
     "output_type": "display_data"
    },
    {
     "data": {
      "text/plain": [
       "0.4804223243522739"
      ]
     },
     "execution_count": 8,
     "metadata": {},
     "output_type": "execute_result"
    }
   ],
   "source": [
    "bin_min = 0\n",
    "bin_max = 0.1\n",
    "bins = 25\n",
    "bin_step = bin_max / bins\n",
    "n_bins = np.arange(bin_min, bin_max, bin_step)\n",
    "\n",
    "kl_divergence = ts.compare_afferent(data_dir=spikes_dir, \n",
    "                                    trials=smart_files, \n",
    "                                    afferent1='sa', \n",
    "                                    afferent2='ra', \n",
    "                                    n_bins=n_bins, \n",
    "                                    trq_sensor_no=0, \n",
    "                                    y_axis_limit=.7,)\n",
    "kl_divergence"
   ]
  },
  {
   "cell_type": "markdown",
   "metadata": {},
   "source": [
    "#### Comapring Trials\n"
   ]
  },
  {
   "cell_type": "code",
   "execution_count": 9,
   "metadata": {},
   "outputs": [
    {
     "name": "stdout",
     "output_type": "stream",
     "text": [
      "loading  spikes_ftsn_object_key_sf_496_trial_5.mat\n",
      "np array and metadata dictionary constructed for  spikes_ftsn_object_key_sf_496_trial_5.mat , now creating dictionary with both\n"
     ]
    },
    {
     "data": {
      "image/png": "[encoded data removed]",
      "text/plain": [
       "<Figure size 432x288 with 1 Axes>"
      ]
     },
     "metadata": {
      "needs_background": "light"
     },
     "output_type": "display_data"
    },
    {
     "name": "stdout",
     "output_type": "stream",
     "text": [
      "loading  spikes_ftsn_object_key_sf_464_trial_2.mat\n",
      "np array and metadata dictionary constructed for  spikes_ftsn_object_key_sf_464_trial_2.mat , now creating dictionary with both\n"
     ]
    },
    {
     "data": {
      "image/png": "[encoded data removed]",
      "text/plain": [
       "<Figure size 432x288 with 1 Axes>"
      ]
     },
     "metadata": {
      "needs_background": "light"
     },
     "output_type": "display_data"
    },
    {
     "data": {
      "text/plain": [
       "0.07310960425358451"
      ]
     },
     "execution_count": 9,
     "metadata": {},
     "output_type": "execute_result"
    }
   ],
   "source": [
    "trial1, _ = ts.trial_select(spikes_dir, obj='key', dim=None, trial=5)\n",
    "trial2, _ = ts.trial_select(spikes_dir, obj='key', dim=None, trial=2)\n",
    "\n",
    "kl_divergence = ts.compare_trial(data_dir=spikes_dir, \n",
    "              trial_set1=trial1, \n",
    "              trial_set2=trial2, \n",
    "              n_bins=n_bins, \n",
    "              neuron=None, \n",
    "              afferent_type='ra', \n",
    "              trq_sensor_no=0, \n",
    "              y_axis_limit=.5)\n",
    "\n",
    "kl_divergence"
   ]
  }
 ],
 "metadata": {
  "kernelspec": {
   "display_name": "Python 3",
   "language": "python",
   "name": "python3"
  },
  "language_info": {
   "codemirror_mode": {
    "name": "ipython",
    "version": 3
   },
   "file_extension": ".py",
   "mimetype": "text/x-python",
   "name": "python",
   "nbconvert_exporter": "python",
   "pygments_lexer": "ipython3",
   "version": "3.7.6"
  }
 },
 "nbformat": 4,
 "nbformat_minor": 4
}
